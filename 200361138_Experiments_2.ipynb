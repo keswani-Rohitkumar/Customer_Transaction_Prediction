{
 "cells": [
  {
   "cell_type": "code",
   "execution_count": null,
   "metadata": {
    "id": "xRfPe5-iVwpj"
   },
   "outputs": [],
   "source": [
    "#Importing all the necessary Libraries\n",
    "\n",
    "import pandas as pd\n",
    "import numpy as np\n",
    "import seaborn as sns\n",
    "import matplotlib.pyplot as plt\n",
    "\n",
    "#import eli5\n",
    "\n",
    "pd.set_option('display.max_columns', None)\n",
    "from sklearn.model_selection import GridSearchCV\n",
    "\n",
    "from sklearn.model_selection import train_test_split\n",
    "from sklearn.linear_model import LogisticRegression\n",
    "from sklearn.tree import DecisionTreeClassifier\n",
    "from sklearn.metrics import accuracy_score, recall_score, confusion_matrix\n",
    "from sklearn import tree\n",
    "import graphviz\n",
    "from sklearn import metrics\n",
    "from sklearn.metrics import classification_report\n",
    "#from pdpbox import pdp, info_plots\n",
    "from sklearn.ensemble import RandomForestClassifier\n",
    "from sklearn.preprocessing import StandardScaler\n",
    "from sklearn.decomposition import PCA\n",
    "#import scikitplot as skplt\n",
    "from sklearn.metrics import roc_curve, roc_auc_score\n",
    "from sklearn.preprocessing import MinMaxScaler\n",
    "RANDOM_SEED = 42"
   ]
  },
  {
   "cell_type": "code",
   "execution_count": null,
   "metadata": {
    "colab": {
     "base_uri": "https://localhost:8080/"
    },
    "id": "egI7xolhV4hs",
    "outputId": "6dae5c97-4115-4360-d29a-7dd94f67f437"
   },
   "outputs": [
    {
     "name": "stdout",
     "output_type": "stream",
     "text": [
      "Mounted at /content/drive\n"
     ]
    }
   ],
   "source": [
    "from google.colab import drive\n",
    "drive.mount('/content/drive')"
   ]
  },
  {
   "cell_type": "code",
   "execution_count": null,
   "metadata": {
    "id": "j7bQbJ5zV53w"
   },
   "outputs": [],
   "source": [
    "#Loading training and test data\n",
    "train_data = pd.read_csv('/content/drive/MyDrive/Customer Transaction Prediction/train.csv')\n",
    "test_data = pd.read_csv('/content/drive/MyDrive/Customer Transaction Prediction/test.csv')"
   ]
  },
  {
   "cell_type": "code",
   "execution_count": null,
   "metadata": {
    "id": "tWSVYgH-WBqj"
   },
   "outputs": [],
   "source": [
    "cols = ['target', 'ID_code']\n",
    "X = train_data.drop(cols,axis=1)\n",
    "y = train_data['target']"
   ]
  },
  {
   "cell_type": "code",
   "execution_count": null,
   "metadata": {
    "id": "r5a5a2knWCy4"
   },
   "outputs": [],
   "source": [
    "  pca = PCA(n_components=2)"
   ]
  },
  {
   "cell_type": "code",
   "execution_count": null,
   "metadata": {
    "id": "JxodF2jYWIiQ"
   },
   "outputs": [],
   "source": [
    "PCA_tr = pca.fit_transform(X)"
   ]
  },
  {
   "cell_type": "code",
   "execution_count": null,
   "metadata": {
    "colab": {
     "base_uri": "https://localhost:8080/"
    },
    "id": "4dNSiQTrXKsQ",
    "outputId": "e669dcf9-64dc-42e2-86eb-20cf55f5bdb2"
   },
   "outputs": [
    {
     "data": {
      "text/plain": [
       "array([[ -5.60634814, -23.55129881],\n",
       "       [ 34.87786161,  11.49616377],\n",
       "       [ -4.79003104,  -0.3001465 ],\n",
       "       ...,\n",
       "       [ 36.84260466,   7.83855715],\n",
       "       [ 30.23028454, -24.44226248],\n",
       "       [ -5.99421878,   7.81988978]])"
      ]
     },
     "execution_count": 7,
     "metadata": {
      "tags": []
     },
     "output_type": "execute_result"
    }
   ],
   "source": [
    "PCA_tr"
   ]
  },
  {
   "cell_type": "code",
   "execution_count": null,
   "metadata": {
    "id": "hNCil-VTXM_x"
   },
   "outputs": [],
   "source": [
    "X_train, X_val, y_train, y_val = train_test_split(PCA_tr,y, random_state = 1)"
   ]
  },
  {
   "cell_type": "code",
   "execution_count": null,
   "metadata": {
    "id": "0cnbPJ1sXOr-"
   },
   "outputs": [],
   "source": [
    "parameters= {\n",
    "    'penalty': ['l1', 'elasticnet', 'l2','none'],\n",
    "    'C': [0.1,2,3,4,5],\n",
    "    'class_weight': ['dict', 'balanced'],\n",
    "    'solver': ['newton_cg', 'liblinear', 'sag', 'saga'],\n",
    "}"
   ]
  },
  {
   "cell_type": "code",
   "execution_count": null,
   "metadata": {
    "id": "6hfmcc9nXcpf"
   },
   "outputs": [],
   "source": [
    "lgr = LogisticRegression()"
   ]
  },
  {
   "cell_type": "code",
   "execution_count": null,
   "metadata": {
    "id": "CHUXpRsxXecF"
   },
   "outputs": [],
   "source": [
    "grid_lgr = GridSearchCV(lgr, parameters, n_jobs=-1)\n",
    "grid_lgr.fit(X_train,y_train)\n",
    "yt_p = grid_lgr.predict(X_train)\n",
    "yv_p = grid_lgr.predict(X_val)"
   ]
  },
  {
   "cell_type": "code",
   "execution_count": null,
   "metadata": {
    "colab": {
     "base_uri": "https://localhost:8080/"
    },
    "id": "b25hVIu9Xf49",
    "outputId": "1bf0fb8a-e270-4b3a-9d6e-6a320f83ae78"
   },
   "outputs": [
    {
     "data": {
      "text/plain": [
       "{'C': 0.1, 'class_weight': 'dict', 'penalty': 'l1', 'solver': 'saga'}"
      ]
     },
     "execution_count": 25,
     "metadata": {
      "tags": []
     },
     "output_type": "execute_result"
    }
   ],
   "source": [
    "grid_lgr.best_params_"
   ]
  },
  {
   "cell_type": "code",
   "execution_count": null,
   "metadata": {
    "colab": {
     "base_uri": "https://localhost:8080/"
    },
    "id": "Eom5wqSmXup7",
    "outputId": "d9e832a0-d5ac-4ec8-a6ba-ee1bff134a19"
   },
   "outputs": [
    {
     "data": {
      "text/plain": [
       "0.8989666666666667"
      ]
     },
     "execution_count": 26,
     "metadata": {
      "tags": []
     },
     "output_type": "execute_result"
    }
   ],
   "source": [
    "grid_lgr.best_score_"
   ]
  },
  {
   "cell_type": "code",
   "execution_count": null,
   "metadata": {
    "colab": {
     "base_uri": "https://localhost:8080/"
    },
    "id": "FeV_QhMqZHRo",
    "outputId": "86deed75-af2d-4b4c-f64e-9599d81cee45"
   },
   "outputs": [
    {
     "name": "stdout",
     "output_type": "stream",
     "text": [
      "Training Accuracy 0.8989666666666667\n",
      "Validation  Accuracy 0.90114\n"
     ]
    }
   ],
   "source": [
    "lgr = LogisticRegression(C=0.1, class_weight='dict', penalty='l1' , solver='saga')\n",
    "lgr.fit(X_train,y_train)\n",
    "yt_p = lgr.predict(X_train)\n",
    "yv_p = lgr.predict(X_val) \n",
    "\n",
    "print('Training Accuracy', np.mean(yt_p==y_train))\n",
    "print('Validation  Accuracy', np.mean(yv_p==y_val))"
   ]
  },
  {
   "cell_type": "code",
   "execution_count": null,
   "metadata": {
    "id": "qfA-McIUZHVK"
   },
   "outputs": [],
   "source": []
  },
  {
   "cell_type": "code",
   "execution_count": null,
   "metadata": {
    "id": "2yVKzDbfZHax"
   },
   "outputs": [],
   "source": []
  },
  {
   "cell_type": "code",
   "execution_count": null,
   "metadata": {
    "id": "7meuTu0cXusu"
   },
   "outputs": [],
   "source": [
    "tr_auc = roc_auc_score(y_train,yt_p)\n",
    "vt_auc = roc_auc_score(y_val, yv_p)"
   ]
  },
  {
   "cell_type": "code",
   "execution_count": null,
   "metadata": {
    "colab": {
     "base_uri": "https://localhost:8080/"
    },
    "id": "HNiXCW1sX1qA",
    "outputId": "df09f504-adf5-46e3-cd25-26fbe1c15d3b"
   },
   "outputs": [
    {
     "data": {
      "text/plain": [
       "0.5"
      ]
     },
     "execution_count": 29,
     "metadata": {
      "tags": []
     },
     "output_type": "execute_result"
    }
   ],
   "source": [
    "tr_auc"
   ]
  },
  {
   "cell_type": "code",
   "execution_count": null,
   "metadata": {
    "colab": {
     "base_uri": "https://localhost:8080/"
    },
    "id": "mUkVBIlnX3YC",
    "outputId": "abce4c3c-15eb-451c-f79d-690336a95e6f"
   },
   "outputs": [
    {
     "data": {
      "text/plain": [
       "0.5"
      ]
     },
     "execution_count": 30,
     "metadata": {
      "tags": []
     },
     "output_type": "execute_result"
    }
   ],
   "source": [
    "vt_auc"
   ]
  },
  {
   "cell_type": "code",
   "execution_count": null,
   "metadata": {
    "colab": {
     "base_uri": "https://localhost:8080/"
    },
    "id": "ZRnkEjemX5Fw",
    "outputId": "81eacef6-53b4-4ac3-9eb5-dde84ed6f2ff"
   },
   "outputs": [
    {
     "name": "stdout",
     "output_type": "stream",
     "text": [
      "              precision    recall  f1-score   support\n",
      "\n",
      "           0       0.90      1.00      0.95    134845\n",
      "           1       0.00      0.00      0.00     15155\n",
      "\n",
      "    accuracy                           0.90    150000\n",
      "   macro avg       0.45      0.50      0.47    150000\n",
      "weighted avg       0.81      0.90      0.85    150000\n",
      "\n"
     ]
    },
    {
     "name": "stderr",
     "output_type": "stream",
     "text": [
      "/usr/local/lib/python3.7/dist-packages/sklearn/metrics/_classification.py:1272: UndefinedMetricWarning: Precision and F-score are ill-defined and being set to 0.0 in labels with no predicted samples. Use `zero_division` parameter to control this behavior.\n",
      "  _warn_prf(average, modifier, msg_start, len(result))\n"
     ]
    }
   ],
   "source": [
    "print(classification_report(y_train, yt_p))"
   ]
  }
 ],
 "metadata": {
  "colab": {
   "collapsed_sections": [],
   "name": "200361138_Experiments_2.ipynb",
   "provenance": []
  },
  "kernelspec": {
   "display_name": "Python 3",
   "language": "python",
   "name": "python3"
  },
  "language_info": {
   "codemirror_mode": {
    "name": "ipython",
    "version": 3
   },
   "file_extension": ".py",
   "mimetype": "text/x-python",
   "name": "python",
   "nbconvert_exporter": "python",
   "pygments_lexer": "ipython3",
   "version": "3.7.9"
  }
 },
 "nbformat": 4,
 "nbformat_minor": 1
}
