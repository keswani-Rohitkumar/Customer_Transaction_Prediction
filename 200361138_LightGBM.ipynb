{
 "cells": [
  {
   "cell_type": "code",
   "execution_count": null,
   "metadata": {
    "id": "mUbkURUbRClZ"
   },
   "outputs": [],
   "source": [
    "#Importing all the necessary Libraries\n",
    "\n",
    "import pandas as pd\n",
    "import numpy as np\n",
    "import seaborn as sns\n",
    "import matplotlib.pyplot as plt\n",
    "\n",
    "#import eli5\n",
    "\n",
    "pd.set_option('display.max_columns', None)\n",
    "\n",
    "from sklearn.model_selection import train_test_split\n",
    "from sklearn.linear_model import LogisticRegression\n",
    "from sklearn.tree import DecisionTreeClassifier\n",
    "from sklearn.metrics import accuracy_score, recall_score, confusion_matrix\n",
    "from sklearn import tree\n",
    "import graphviz\n",
    "from sklearn import metrics\n",
    "from sklearn.metrics import classification_report\n",
    "#from pdpbox import pdp, \n",
    "\n",
    "from sklearn.ensemble import RandomForestClassifier\n",
    "from sklearn.preprocessing import StandardScaler\n",
    "from sklearn.decomposition import PCA\n",
    "#import scikitplot as skplt\n",
    "from sklearn.metrics import roc_curve, roc_auc_score\n",
    "from sklearn.model_selection import GridSearchCV\n",
    "from sklearn.preprocessing import MinMaxScaler\n",
    "RANDOM_SEED = 42"
   ]
  },
  {
   "cell_type": "code",
   "execution_count": null,
   "metadata": {
    "id": "eOhSIml0RF-H"
   },
   "outputs": [],
   "source": [
    "#Loading training and test data\n",
    "train_data = pd.read_csv('/content/drive/MyDrive/Customer Transaction Prediction/train.csv')\n",
    "test_data = pd.read_csv('/content/drive/MyDrive/Customer Transaction Prediction/test.csv')"
   ]
  },
  {
   "cell_type": "code",
   "execution_count": null,
   "metadata": {
    "id": "6RznaTgZRHYA"
   },
   "outputs": [],
   "source": [
    "cols = ['target', 'ID_code']\n",
    "X = train_data.drop(cols,axis=1)\n",
    "y = train_data['target']"
   ]
  },
  {
   "cell_type": "code",
   "execution_count": null,
   "metadata": {
    "id": "5kmhFV3ESJ24"
   },
   "outputs": [],
   "source": [
    "scaler = StandardScaler()"
   ]
  },
  {
   "cell_type": "code",
   "execution_count": null,
   "metadata": {
    "id": "H84qUlcNSMOE"
   },
   "outputs": [],
   "source": [
    "tr = scaler.fit_transform(X)"
   ]
  },
  {
   "cell_type": "code",
   "execution_count": null,
   "metadata": {
    "id": "tR3KFDk9SOVe"
   },
   "outputs": [],
   "source": [
    "X_train, X_test, y_train, y_test = train_test_split(tr,y, random_state = 1)"
   ]
  },
  {
   "cell_type": "code",
   "execution_count": null,
   "metadata": {
    "id": "vCgejkwqSZac"
   },
   "outputs": [],
   "source": [
    "import lightgbm as lgb"
   ]
  },
  {
   "cell_type": "code",
   "execution_count": null,
   "metadata": {
    "id": "ZKzlg0bWSciz"
   },
   "outputs": [],
   "source": [
    "from lightgbm import LGBMClassifier"
   ]
  },
  {
   "cell_type": "code",
   "execution_count": null,
   "metadata": {
    "id": "zA2qG3okWnbt"
   },
   "outputs": [],
   "source": []
  },
  {
   "cell_type": "code",
   "execution_count": null,
   "metadata": {
    "id": "TZvWKVm-WneO"
   },
   "outputs": [],
   "source": [
    "param = {\n",
    "    'bagging_freq': 5,\n",
    "    'bagging_fraction': 0.4,\n",
    "    'boost_from_average':'false',\n",
    "    'boost': 'gbdt',\n",
    "    'feature_fraction': 0.05,\n",
    "    'learning_rate': 0.01,\n",
    "    'max_depth': -1,  \n",
    "    'metric':'auc',\n",
    "    'min_data_in_leaf': 80,\n",
    "    'min_sum_hessian_in_leaf': 10.0,\n",
    "    'num_leaves': 13,\n",
    "    'num_threads': 8,\n",
    "    'tree_learner': 'serial',\n",
    "    'objective': 'binary', \n",
    "    'verbosity': 1\n",
    "}"
   ]
  },
  {
   "cell_type": "code",
   "execution_count": null,
   "metadata": {
    "id": "ATd44wcAeSvo"
   },
   "outputs": [],
   "source": []
  },
  {
   "cell_type": "code",
   "execution_count": null,
   "metadata": {
    "id": "ccD-1J7eWngp"
   },
   "outputs": [],
   "source": [
    "lgb_train = lgb.Dataset(X_train, y_train)"
   ]
  },
  {
   "cell_type": "code",
   "execution_count": null,
   "metadata": {
    "id": "Y1qOjqW_Wq_6"
   },
   "outputs": [],
   "source": [
    "lgb_eval = lgb.Dataset(X_test, y_test, reference=lgb_train)"
   ]
  },
  {
   "cell_type": "code",
   "execution_count": null,
   "metadata": {
    "colab": {
     "base_uri": "https://localhost:8080/"
    },
    "id": "lJFd05WFWw9d",
    "outputId": "2cca8cd6-f41b-414b-e6d7-dc931332ace9"
   },
   "outputs": [
    {
     "name": "stdout",
     "output_type": "stream",
     "text": [
      "[1]\tvalid_0's auc: 0.580427\n",
      "[2]\tvalid_0's auc: 0.629521\n",
      "[3]\tvalid_0's auc: 0.663015\n",
      "[4]\tvalid_0's auc: 0.674821\n",
      "[5]\tvalid_0's auc: 0.690618\n",
      "[6]\tvalid_0's auc: 0.709638\n",
      "[7]\tvalid_0's auc: 0.715527\n",
      "[8]\tvalid_0's auc: 0.717254\n",
      "[9]\tvalid_0's auc: 0.725773\n",
      "[10]\tvalid_0's auc: 0.737384\n",
      "[11]\tvalid_0's auc: 0.738048\n",
      "[12]\tvalid_0's auc: 0.74969\n",
      "[13]\tvalid_0's auc: 0.759547\n",
      "[14]\tvalid_0's auc: 0.764796\n",
      "[15]\tvalid_0's auc: 0.768353\n",
      "[16]\tvalid_0's auc: 0.767517\n",
      "[17]\tvalid_0's auc: 0.767312\n",
      "[18]\tvalid_0's auc: 0.775866\n",
      "[19]\tvalid_0's auc: 0.778056\n",
      "[20]\tvalid_0's auc: 0.78023\n",
      "[21]\tvalid_0's auc: 0.782777\n",
      "[22]\tvalid_0's auc: 0.782585\n",
      "[23]\tvalid_0's auc: 0.782226\n",
      "[24]\tvalid_0's auc: 0.786745\n",
      "[25]\tvalid_0's auc: 0.788045\n",
      "[26]\tvalid_0's auc: 0.7928\n",
      "[27]\tvalid_0's auc: 0.794891\n",
      "[28]\tvalid_0's auc: 0.799557\n",
      "[29]\tvalid_0's auc: 0.799719\n",
      "[30]\tvalid_0's auc: 0.801135\n",
      "[31]\tvalid_0's auc: 0.802871\n",
      "[32]\tvalid_0's auc: 0.801502\n",
      "[33]\tvalid_0's auc: 0.803733\n",
      "[34]\tvalid_0's auc: 0.806969\n",
      "[35]\tvalid_0's auc: 0.8074\n",
      "[36]\tvalid_0's auc: 0.810097\n",
      "[37]\tvalid_0's auc: 0.811544\n",
      "[38]\tvalid_0's auc: 0.813089\n",
      "[39]\tvalid_0's auc: 0.813408\n",
      "[40]\tvalid_0's auc: 0.81505\n",
      "[41]\tvalid_0's auc: 0.816985\n",
      "[42]\tvalid_0's auc: 0.817947\n",
      "[43]\tvalid_0's auc: 0.819365\n",
      "[44]\tvalid_0's auc: 0.820612\n",
      "[45]\tvalid_0's auc: 0.81963\n",
      "[46]\tvalid_0's auc: 0.819728\n",
      "[47]\tvalid_0's auc: 0.82195\n",
      "[48]\tvalid_0's auc: 0.821685\n",
      "[49]\tvalid_0's auc: 0.824717\n",
      "[50]\tvalid_0's auc: 0.823755\n",
      "[51]\tvalid_0's auc: 0.8264\n",
      "[52]\tvalid_0's auc: 0.827698\n",
      "[53]\tvalid_0's auc: 0.827762\n",
      "[54]\tvalid_0's auc: 0.828119\n",
      "[55]\tvalid_0's auc: 0.830309\n",
      "[56]\tvalid_0's auc: 0.831982\n",
      "[57]\tvalid_0's auc: 0.833174\n",
      "[58]\tvalid_0's auc: 0.833361\n",
      "[59]\tvalid_0's auc: 0.835384\n",
      "[60]\tvalid_0's auc: 0.835458\n",
      "[61]\tvalid_0's auc: 0.835541\n",
      "[62]\tvalid_0's auc: 0.836728\n",
      "[63]\tvalid_0's auc: 0.838188\n",
      "[64]\tvalid_0's auc: 0.839337\n",
      "[65]\tvalid_0's auc: 0.840626\n",
      "[66]\tvalid_0's auc: 0.840731\n",
      "[67]\tvalid_0's auc: 0.841207\n",
      "[68]\tvalid_0's auc: 0.841958\n",
      "[69]\tvalid_0's auc: 0.842299\n",
      "[70]\tvalid_0's auc: 0.843536\n",
      "[71]\tvalid_0's auc: 0.843417\n",
      "[72]\tvalid_0's auc: 0.844184\n",
      "[73]\tvalid_0's auc: 0.844551\n",
      "[74]\tvalid_0's auc: 0.845545\n",
      "[75]\tvalid_0's auc: 0.846183\n",
      "[76]\tvalid_0's auc: 0.846783\n",
      "[77]\tvalid_0's auc: 0.846701\n",
      "[78]\tvalid_0's auc: 0.846157\n",
      "[79]\tvalid_0's auc: 0.845771\n",
      "[80]\tvalid_0's auc: 0.846133\n",
      "[81]\tvalid_0's auc: 0.846558\n",
      "[82]\tvalid_0's auc: 0.84796\n",
      "[83]\tvalid_0's auc: 0.848566\n",
      "[84]\tvalid_0's auc: 0.848507\n",
      "[85]\tvalid_0's auc: 0.849123\n",
      "[86]\tvalid_0's auc: 0.850141\n",
      "[87]\tvalid_0's auc: 0.849683\n",
      "[88]\tvalid_0's auc: 0.848588\n",
      "[89]\tvalid_0's auc: 0.849379\n",
      "[90]\tvalid_0's auc: 0.84953\n",
      "[91]\tvalid_0's auc: 0.847866\n",
      "[92]\tvalid_0's auc: 0.849088\n",
      "[93]\tvalid_0's auc: 0.849957\n",
      "[94]\tvalid_0's auc: 0.850617\n",
      "[95]\tvalid_0's auc: 0.851056\n",
      "[96]\tvalid_0's auc: 0.85174\n",
      "[97]\tvalid_0's auc: 0.851583\n",
      "[98]\tvalid_0's auc: 0.851408\n",
      "[99]\tvalid_0's auc: 0.850447\n",
      "[100]\tvalid_0's auc: 0.849975\n"
     ]
    }
   ],
   "source": [
    "gbm = lgb.train(param,  lgb_train, valid_sets=lgb_eval)"
   ]
  },
  {
   "cell_type": "code",
   "execution_count": null,
   "metadata": {
    "id": "1I3JgwOqedCc"
   },
   "outputs": [],
   "source": []
  },
  {
   "cell_type": "code",
   "execution_count": null,
   "metadata": {
    "id": "AQQAslbfXH-C"
   },
   "outputs": [],
   "source": []
  },
  {
   "cell_type": "code",
   "execution_count": null,
   "metadata": {
    "id": "_-LX0T9uSe4b"
   },
   "outputs": [],
   "source": [
    "lgbm_model = LGBMClassifier(\n",
    "    boosting_type='gbdt',\n",
    "    max_depth = 2000,\n",
    "    n_estimators = 5000,\n",
    "    objective = 'binary',\n",
    "    class_weight = {0:0.1, 1:0.9},\n",
    "    n_jobs = -1\n",
    ")"
   ]
  },
  {
   "cell_type": "code",
   "execution_count": null,
   "metadata": {
    "colab": {
     "base_uri": "https://localhost:8080/"
    },
    "id": "pQ5ZknCfSsht",
    "outputId": "6ee545e9-d3b6-4d9c-b261-fcbb5fe6b424"
   },
   "outputs": [
    {
     "data": {
      "text/plain": [
       "LGBMClassifier(boosting_type='gbdt', class_weight={0: 0.1, 1: 0.9},\n",
       "               colsample_bytree=1.0, importance_type='split', learning_rate=0.1,\n",
       "               max_depth=2000, min_child_samples=20, min_child_weight=0.001,\n",
       "               min_split_gain=0.0, n_estimators=5000, n_jobs=-1, num_leaves=31,\n",
       "               objective='binary', random_state=None, reg_alpha=0.0,\n",
       "               reg_lambda=0.0, silent=True, subsample=1.0,\n",
       "               subsample_for_bin=200000, subsample_freq=0)"
      ]
     },
     "execution_count": 14,
     "metadata": {
      "tags": []
     },
     "output_type": "execute_result"
    }
   ],
   "source": [
    "lgbm_model.fit(X_train, y_train)"
   ]
  },
  {
   "cell_type": "code",
   "execution_count": null,
   "metadata": {
    "id": "SAtjeEOOSv4j"
   },
   "outputs": [],
   "source": [
    "train_predict = lgbm_model.predict(X_train)"
   ]
  },
  {
   "cell_type": "code",
   "execution_count": null,
   "metadata": {
    "id": "5VnPhA8MT-7A"
   },
   "outputs": [],
   "source": [
    "train_auc = roc_auc_score(y_train,train_predict)"
   ]
  },
  {
   "cell_type": "code",
   "execution_count": null,
   "metadata": {
    "colab": {
     "base_uri": "https://localhost:8080/"
    },
    "id": "fy8Bz7zKUAxC",
    "outputId": "875526b4-2167-433e-d85f-faba9cb006be"
   },
   "outputs": [
    {
     "data": {
      "text/plain": [
       "1.0"
      ]
     },
     "execution_count": 17,
     "metadata": {
      "tags": []
     },
     "output_type": "execute_result"
    }
   ],
   "source": [
    "train_auc"
   ]
  },
  {
   "cell_type": "code",
   "execution_count": null,
   "metadata": {
    "colab": {
     "base_uri": "https://localhost:8080/"
    },
    "id": "C0aT5O97UB5Q",
    "outputId": "36f76b5b-9f85-4b96-d241-0f8bf33aca9e"
   },
   "outputs": [
    {
     "name": "stdout",
     "output_type": "stream",
     "text": [
      "              precision    recall  f1-score   support\n",
      "\n",
      "           0       1.00      1.00      1.00    134845\n",
      "           1       1.00      1.00      1.00     15155\n",
      "\n",
      "    accuracy                           1.00    150000\n",
      "   macro avg       1.00      1.00      1.00    150000\n",
      "weighted avg       1.00      1.00      1.00    150000\n",
      "\n"
     ]
    }
   ],
   "source": [
    "print(classification_report(y_train, train_predict))"
   ]
  },
  {
   "cell_type": "code",
   "execution_count": null,
   "metadata": {
    "id": "BTV1k6LWUD4W"
   },
   "outputs": [],
   "source": [
    "val_predict = lgbm_model.predict(X_test)"
   ]
  },
  {
   "cell_type": "code",
   "execution_count": null,
   "metadata": {
    "id": "lfxa_FxIULvY"
   },
   "outputs": [],
   "source": [
    "val_score = roc_auc_score(y_test,val_predict)"
   ]
  },
  {
   "cell_type": "code",
   "execution_count": null,
   "metadata": {
    "colab": {
     "base_uri": "https://localhost:8080/"
    },
    "id": "R_BoR3x3UNhs",
    "outputId": "6b3609d0-3fc3-4650-94d6-a859a9f37ae6"
   },
   "outputs": [
    {
     "data": {
      "text/plain": [
       "0.6644625778507338"
      ]
     },
     "execution_count": 21,
     "metadata": {
      "tags": []
     },
     "output_type": "execute_result"
    }
   ],
   "source": [
    "val_score"
   ]
  },
  {
   "cell_type": "code",
   "execution_count": null,
   "metadata": {
    "colab": {
     "base_uri": "https://localhost:8080/"
    },
    "id": "oPvYyJz6UOjG",
    "outputId": "9a0690e1-03e8-404c-fc71-fac9212a17ab"
   },
   "outputs": [
    {
     "name": "stdout",
     "output_type": "stream",
     "text": [
      "              precision    recall  f1-score   support\n",
      "\n",
      "           0       0.93      0.98      0.96     45057\n",
      "           1       0.71      0.34      0.46      4943\n",
      "\n",
      "    accuracy                           0.92     50000\n",
      "   macro avg       0.82      0.66      0.71     50000\n",
      "weighted avg       0.91      0.92      0.91     50000\n",
      "\n"
     ]
    }
   ],
   "source": [
    "print(classification_report(y_test, val_predict))"
   ]
  },
  {
   "cell_type": "code",
   "execution_count": null,
   "metadata": {
    "id": "fDPJak0OUQNI"
   },
   "outputs": [],
   "source": [
    "lr_fpr, lr_tpr, _ = roc_curve(y_test,val_predict)"
   ]
  },
  {
   "cell_type": "code",
   "execution_count": null,
   "metadata": {
    "colab": {
     "base_uri": "https://localhost:8080/",
     "height": 295
    },
    "id": "zwREX2XrUSPG",
    "outputId": "b85eb6da-3f85-4215-a99a-ed506e2ea760"
   },
   "outputs": [
    {
     "data": {
      "image/png": "[encoded data removed]",
      "text/plain": [
       "<Figure size 432x288 with 1 Axes>"
      ]
     },
     "metadata": {
      "needs_background": "light",
      "tags": []
     },
     "output_type": "display_data"
    }
   ],
   "source": [
    "plt.plot(lr_fpr, lr_tpr, linestyle='--', label = 'CatBoost (AUROC = %0.3f)' %val_score)\n",
    "plt.title('ROC Plot for Cat Boost')\n",
    "plt.xlabel('False Positive Rate')\n",
    "plt.ylabel('True Positive Rate')\n",
    "plt.legend()\n",
    "plt.show()"
   ]
  },
  {
   "cell_type": "code",
   "execution_count": null,
   "metadata": {
    "id": "NgbatU7gUUSk"
   },
   "outputs": [],
   "source": []
  },
  {
   "cell_type": "code",
   "execution_count": null,
   "metadata": {
    "colab": {
     "base_uri": "https://localhost:8080/"
    },
    "id": "XS1bRXloUIly",
    "outputId": "513163a3-7258-4f3c-b02a-c6dbb9655082"
   },
   "outputs": [
    {
     "name": "stderr",
     "output_type": "stream",
     "text": [
      "/usr/local/lib/python3.7/dist-packages/sklearn/externals/six.py:31: FutureWarning: The module is deprecated in version 0.21 and will be removed in version 0.23 since we've dropped support for Python 2.7. Please rely on the official version of six (https://pypi.org/project/six/).\n",
      "  \"(https://pypi.org/project/six/).\", FutureWarning)\n",
      "/usr/local/lib/python3.7/dist-packages/sklearn/utils/deprecation.py:144: FutureWarning: The sklearn.neighbors.base module is  deprecated in version 0.22 and will be removed in version 0.24. The corresponding classes / functions should instead be imported from sklearn.neighbors. Anything that cannot be imported from sklearn.neighbors is now part of the private API.\n",
      "  warnings.warn(message, FutureWarning)\n"
     ]
    }
   ],
   "source": [
    "import imblearn\n",
    "from imblearn.under_sampling import RandomUnderSampler"
   ]
  },
  {
   "cell_type": "code",
   "execution_count": null,
   "metadata": {
    "id": "uGUxWmaCT8tj"
   },
   "outputs": [],
   "source": [
    "undersample = RandomUnderSampler(sampling_strategy='majority')"
   ]
  },
  {
   "cell_type": "code",
   "execution_count": null,
   "metadata": {
    "colab": {
     "base_uri": "https://localhost:8080/"
    },
    "id": "Oyw1Vjeb2x7H",
    "outputId": "b5c88fec-284b-45b4-f9d4-7f933926fdd5"
   },
   "outputs": [
    {
     "name": "stderr",
     "output_type": "stream",
     "text": [
      "/usr/local/lib/python3.7/dist-packages/sklearn/utils/deprecation.py:87: FutureWarning: Function safe_indexing is deprecated; safe_indexing is deprecated in version 0.22 and will be removed in version 0.24.\n",
      "  warnings.warn(msg, category=FutureWarning)\n"
     ]
    }
   ],
   "source": [
    "X_under, y_under = undersample.fit_resample(X, y)"
   ]
  },
  {
   "cell_type": "code",
   "execution_count": null,
   "metadata": {
    "id": "KXaFQAXl26w-"
   },
   "outputs": [],
   "source": [
    "X_train, X_val, y_train, y_val = train_test_split(X_under,y_under, random_state = 1)"
   ]
  },
  {
   "cell_type": "code",
   "execution_count": null,
   "metadata": {
    "id": "J0P6Wuuj3CwO"
   },
   "outputs": [],
   "source": [
    "lgbm_model = LGBMClassifier(\n",
    "    boosting_type='gbdt',\n",
    "    max_depth = 200,\n",
    "    n_estimators = 500,\n",
    "    objective = 'binary',\n",
    "    class_weight = 'balanced',\n",
    "    n_jobs = -1\n",
    ")"
   ]
  },
  {
   "cell_type": "code",
   "execution_count": null,
   "metadata": {
    "id": "ogXgm5CL5E23"
   },
   "outputs": [],
   "source": []
  },
  {
   "cell_type": "code",
   "execution_count": null,
   "metadata": {
    "colab": {
     "base_uri": "https://localhost:8080/"
    },
    "id": "g07WYAbx3ImR",
    "outputId": "7c6d0801-bf74-4dd7-d9f3-49c124791ff7"
   },
   "outputs": [
    {
     "data": {
      "text/plain": [
       "LGBMClassifier(boosting_type='gbdt', class_weight='balanced',\n",
       "               colsample_bytree=1.0, importance_type='split', learning_rate=0.1,\n",
       "               max_depth=200, min_child_samples=20, min_child_weight=0.001,\n",
       "               min_split_gain=0.0, n_estimators=500, n_jobs=-1, num_leaves=31,\n",
       "               objective='binary', random_state=None, reg_alpha=0.0,\n",
       "               reg_lambda=0.0, silent=True, subsample=1.0,\n",
       "               subsample_for_bin=200000, subsample_freq=0)"
      ]
     },
     "execution_count": 30,
     "metadata": {
      "tags": []
     },
     "output_type": "execute_result"
    }
   ],
   "source": [
    "lgbm_model.fit(X_train, y_train)"
   ]
  },
  {
   "cell_type": "code",
   "execution_count": null,
   "metadata": {
    "id": "tPUPHgkY25vo"
   },
   "outputs": [],
   "source": [
    "train_predict = lgbm_model.predict(X_train)"
   ]
  },
  {
   "cell_type": "code",
   "execution_count": null,
   "metadata": {
    "id": "ONG6gZ2W3Nq_"
   },
   "outputs": [],
   "source": [
    "train_auc = roc_auc_score(y_train,train_predict)"
   ]
  },
  {
   "cell_type": "code",
   "execution_count": null,
   "metadata": {
    "colab": {
     "base_uri": "https://localhost:8080/"
    },
    "id": "P14uy6bOT736",
    "outputId": "30388b2a-e96d-4013-b603-371ccfef2e26"
   },
   "outputs": [
    {
     "data": {
      "text/plain": [
       "0.9957945062970275"
      ]
     },
     "execution_count": 33,
     "metadata": {
      "tags": []
     },
     "output_type": "execute_result"
    }
   ],
   "source": [
    "train_auc"
   ]
  },
  {
   "cell_type": "code",
   "execution_count": null,
   "metadata": {
    "colab": {
     "base_uri": "https://localhost:8080/"
    },
    "id": "8PKLHz7p3Sy0",
    "outputId": "bb6f4b9f-ea9e-4a49-a36f-62304f833538"
   },
   "outputs": [
    {
     "name": "stdout",
     "output_type": "stream",
     "text": [
      "              precision    recall  f1-score   support\n",
      "\n",
      "           0       0.99      1.00      1.00     15045\n",
      "           1       1.00      0.99      1.00     15102\n",
      "\n",
      "    accuracy                           1.00     30147\n",
      "   macro avg       1.00      1.00      1.00     30147\n",
      "weighted avg       1.00      1.00      1.00     30147\n",
      "\n"
     ]
    }
   ],
   "source": [
    "print(classification_report(y_train, train_predict))"
   ]
  },
  {
   "cell_type": "code",
   "execution_count": null,
   "metadata": {
    "id": "AjvfpyOo3S1e"
   },
   "outputs": [],
   "source": [
    "val_predict = lgbm_model.predict(X_val)"
   ]
  },
  {
   "cell_type": "code",
   "execution_count": null,
   "metadata": {
    "id": "kcjwCdLr3S4Y"
   },
   "outputs": [],
   "source": [
    "val_score = roc_auc_score(y_val,val_predict)"
   ]
  },
  {
   "cell_type": "code",
   "execution_count": null,
   "metadata": {
    "colab": {
     "base_uri": "https://localhost:8080/"
    },
    "id": "8TYzFNp63S6Z",
    "outputId": "8ba9f06d-3f76-4bde-efb4-036157fafd08"
   },
   "outputs": [
    {
     "data": {
      "text/plain": [
       "0.7937623203649007"
      ]
     },
     "execution_count": 37,
     "metadata": {
      "tags": []
     },
     "output_type": "execute_result"
    }
   ],
   "source": [
    "val_score"
   ]
  },
  {
   "cell_type": "code",
   "execution_count": null,
   "metadata": {
    "colab": {
     "base_uri": "https://localhost:8080/"
    },
    "id": "FGX9_qKR35wF",
    "outputId": "17c3c942-a81b-4981-dd46-50e2ac115e86"
   },
   "outputs": [
    {
     "name": "stdout",
     "output_type": "stream",
     "text": [
      "              precision    recall  f1-score   support\n",
      "\n",
      "           0       0.80      0.78      0.79      5053\n",
      "           1       0.79      0.80      0.79      4996\n",
      "\n",
      "    accuracy                           0.79     10049\n",
      "   macro avg       0.79      0.79      0.79     10049\n",
      "weighted avg       0.79      0.79      0.79     10049\n",
      "\n"
     ]
    }
   ],
   "source": [
    "print(classification_report(y_val, val_predict))"
   ]
  },
  {
   "cell_type": "code",
   "execution_count": null,
   "metadata": {
    "id": "TQfNpX9u35yX"
   },
   "outputs": [],
   "source": [
    "lr_fpr, lr_tpr, _ = roc_curve(y_val,val_predict)"
   ]
  },
  {
   "cell_type": "code",
   "execution_count": null,
   "metadata": {
    "colab": {
     "base_uri": "https://localhost:8080/",
     "height": 295
    },
    "id": "ZhRJGrPj3511",
    "outputId": "e2c46644-2387-4424-fe3c-b7afc24d4718"
   },
   "outputs": [
    {
     "data": {
      "image/png": "[encoded data removed]",
      "text/plain": [
       "<Figure size 432x288 with 1 Axes>"
      ]
     },
     "metadata": {
      "needs_background": "light",
      "tags": []
     },
     "output_type": "display_data"
    }
   ],
   "source": [
    "plt.plot(lr_fpr, lr_tpr, linestyle='--', label = 'CatBoost (AUROC = %0.3f)' %val_score)\n",
    "plt.title('ROC Plot for Cat Boost')\n",
    "plt.xlabel('False Positive Rate')\n",
    "plt.ylabel('True Positive Rate')\n",
    "plt.legend()\n",
    "plt.show()"
   ]
  },
  {
   "cell_type": "code",
   "execution_count": null,
   "metadata": {
    "id": "m0-c8VGD5Y69"
   },
   "outputs": [],
   "source": []
  },
  {
   "cell_type": "code",
   "execution_count": null,
   "metadata": {
    "id": "dC54alTk5Y93"
   },
   "outputs": [],
   "source": []
  },
  {
   "cell_type": "code",
   "execution_count": null,
   "metadata": {
    "id": "ueipuxBo5ZA2"
   },
   "outputs": [],
   "source": [
    "from imblearn.over_sampling import SMOTE "
   ]
  },
  {
   "cell_type": "code",
   "execution_count": null,
   "metadata": {
    "id": "wj6mes0M5grZ"
   },
   "outputs": [],
   "source": [
    "sm = SMOTE(random_state=42)"
   ]
  },
  {
   "cell_type": "code",
   "execution_count": null,
   "metadata": {
    "colab": {
     "base_uri": "https://localhost:8080/"
    },
    "id": "N2a207z45j-T",
    "outputId": "af57f892-21ba-40be-e9c7-01c598bba0a5"
   },
   "outputs": [
    {
     "name": "stderr",
     "output_type": "stream",
     "text": [
      "/usr/local/lib/python3.7/dist-packages/sklearn/utils/deprecation.py:87: FutureWarning: Function safe_indexing is deprecated; safe_indexing is deprecated in version 0.22 and will be removed in version 0.24.\n",
      "  warnings.warn(msg, category=FutureWarning)\n"
     ]
    }
   ],
   "source": [
    "X_sm, y_sm = sm.fit_resample(X, y)"
   ]
  },
  {
   "cell_type": "code",
   "execution_count": null,
   "metadata": {
    "id": "zVIvnUoA5ljY"
   },
   "outputs": [],
   "source": [
    "X_train, X_val, y_train, y_val = train_test_split(X_sm,y_sm, random_state = 1)"
   ]
  },
  {
   "cell_type": "code",
   "execution_count": null,
   "metadata": {
    "id": "lBsQnmGP5pTk"
   },
   "outputs": [],
   "source": []
  },
  {
   "cell_type": "code",
   "execution_count": null,
   "metadata": {
    "id": "oBpfwaTe5ZDo"
   },
   "outputs": [],
   "source": [
    "lgbm_model = LGBMClassifier(\n",
    "    boosting_type='gbdt',\n",
    "    max_depth = 200,\n",
    "    n_estimators = 500,\n",
    "    objective = 'binary',\n",
    "    class_weight = 'balanced',\n",
    "    n_jobs = -1\n",
    ")"
   ]
  },
  {
   "cell_type": "code",
   "execution_count": null,
   "metadata": {
    "colab": {
     "base_uri": "https://localhost:8080/"
    },
    "id": "Zeo-c69f5ZGU",
    "outputId": "1a9886cd-cbe5-42cf-c5c8-a6fbd218a98b"
   },
   "outputs": [
    {
     "data": {
      "text/plain": [
       "LGBMClassifier(boosting_type='gbdt', class_weight='balanced',\n",
       "               colsample_bytree=1.0, importance_type='split', learning_rate=0.1,\n",
       "               max_depth=200, min_child_samples=20, min_child_weight=0.001,\n",
       "               min_split_gain=0.0, n_estimators=500, n_jobs=-1, num_leaves=31,\n",
       "               objective='binary', random_state=None, reg_alpha=0.0,\n",
       "               reg_lambda=0.0, silent=True, subsample=1.0,\n",
       "               subsample_for_bin=200000, subsample_freq=0)"
      ]
     },
     "execution_count": 46,
     "metadata": {
      "tags": []
     },
     "output_type": "execute_result"
    }
   ],
   "source": [
    "lgbm_model.fit(X_train, y_train)"
   ]
  },
  {
   "cell_type": "code",
   "execution_count": null,
   "metadata": {
    "id": "Gi_EB87r5ZIb"
   },
   "outputs": [],
   "source": [
    "train_predict = lgbm_model.predict(X_train)"
   ]
  },
  {
   "cell_type": "code",
   "execution_count": null,
   "metadata": {
    "id": "KY_ynzCF5ZKn"
   },
   "outputs": [],
   "source": [
    "train_auc = roc_auc_score(y_train,train_predict)"
   ]
  },
  {
   "cell_type": "code",
   "execution_count": null,
   "metadata": {
    "colab": {
     "base_uri": "https://localhost:8080/"
    },
    "id": "MelBUP4R7yrY",
    "outputId": "cbf56fb1-7b4c-433e-fe1b-4631b2ee9c91"
   },
   "outputs": [
    {
     "data": {
      "text/plain": [
       "0.9455950911410109"
      ]
     },
     "execution_count": 49,
     "metadata": {
      "tags": []
     },
     "output_type": "execute_result"
    }
   ],
   "source": [
    "train_auc"
   ]
  },
  {
   "cell_type": "code",
   "execution_count": null,
   "metadata": {
    "colab": {
     "base_uri": "https://localhost:8080/"
    },
    "id": "_gefd8jT7yt-",
    "outputId": "d490240b-baf7-4758-8d79-c40999b182fd"
   },
   "outputs": [
    {
     "name": "stdout",
     "output_type": "stream",
     "text": [
      "              precision    recall  f1-score   support\n",
      "\n",
      "           0       0.93      0.96      0.95    134970\n",
      "           1       0.96      0.93      0.94    134883\n",
      "\n",
      "    accuracy                           0.95    269853\n",
      "   macro avg       0.95      0.95      0.95    269853\n",
      "weighted avg       0.95      0.95      0.95    269853\n",
      "\n"
     ]
    }
   ],
   "source": [
    "print(classification_report(y_train, train_predict))"
   ]
  },
  {
   "cell_type": "code",
   "execution_count": null,
   "metadata": {
    "id": "aFV4mobq7ywG"
   },
   "outputs": [],
   "source": []
  },
  {
   "cell_type": "code",
   "execution_count": null,
   "metadata": {
    "id": "zzJuWRFC7yym"
   },
   "outputs": [],
   "source": [
    "val_predict = lgbm_model.predict(X_val)"
   ]
  },
  {
   "cell_type": "code",
   "execution_count": null,
   "metadata": {
    "id": "vQVIccou78QJ"
   },
   "outputs": [],
   "source": [
    "val_score = roc_auc_score(y_val,val_predict)"
   ]
  },
  {
   "cell_type": "code",
   "execution_count": null,
   "metadata": {
    "colab": {
     "base_uri": "https://localhost:8080/"
    },
    "id": "dww7BSE-78S0",
    "outputId": "d892ceec-a92c-44b5-c6ac-e9042cd5553c"
   },
   "outputs": [
    {
     "data": {
      "text/plain": [
       "0.9148808087453275"
      ]
     },
     "execution_count": 53,
     "metadata": {
      "tags": []
     },
     "output_type": "execute_result"
    }
   ],
   "source": [
    "val_score"
   ]
  },
  {
   "cell_type": "code",
   "execution_count": null,
   "metadata": {
    "colab": {
     "base_uri": "https://localhost:8080/"
    },
    "id": "aAzGWNRW78Vq",
    "outputId": "b1e6a4d7-512b-418e-a219-eb211e568987"
   },
   "outputs": [
    {
     "name": "stdout",
     "output_type": "stream",
     "text": [
      "              precision    recall  f1-score   support\n",
      "\n",
      "           0       0.90      0.93      0.92     44932\n",
      "           1       0.93      0.90      0.91     45019\n",
      "\n",
      "    accuracy                           0.91     89951\n",
      "   macro avg       0.92      0.91      0.91     89951\n",
      "weighted avg       0.92      0.91      0.91     89951\n",
      "\n"
     ]
    }
   ],
   "source": [
    "print(classification_report(y_val, val_predict))"
   ]
  },
  {
   "cell_type": "code",
   "execution_count": null,
   "metadata": {
    "id": "sTTNzMhHd9bf"
   },
   "outputs": [],
   "source": []
  },
  {
   "cell_type": "code",
   "execution_count": null,
   "metadata": {
    "id": "Lh0SrrjcdnXw"
   },
   "outputs": [],
   "source": []
  },
  {
   "cell_type": "code",
   "execution_count": null,
   "metadata": {
    "id": "3y8Hxj9G8CNt"
   },
   "outputs": [],
   "source": [
    "lr_fpr, lr_tpr, _ = roc_curve(y_val, lgbm_model.predict_proba(X_val)[:,1])"
   ]
  },
  {
   "cell_type": "markdown",
   "metadata": {
    "id": "DSdrMGUAs-o6"
   },
   "source": []
  },
  {
   "cell_type": "code",
   "execution_count": null,
   "metadata": {
    "colab": {
     "base_uri": "https://localhost:8080/",
     "height": 295
    },
    "id": "9rHT1YQt8CQd",
    "outputId": "6f7d47bc-71a9-46d5-a129-1c27101e6fe3"
   },
   "outputs": [
    {
     "data": {
      "image/png": "[encoded data removed]",
      "text/plain": [
       "<Figure size 432x288 with 1 Axes>"
      ]
     },
     "metadata": {
      "needs_background": "light",
      "tags": []
     },
     "output_type": "display_data"
    }
   ],
   "source": [
    "plt.plot(lr_fpr, lr_tpr, linestyle='--', label = 'LightGBM (AUROC = %0.3f)' %val_score)\n",
    "plt.title('ROC Plot for LightGBM')\n",
    "plt.xlabel('False Positive Rate')\n",
    "plt.ylabel('True Positive Rate')\n",
    "plt.legend()\n",
    "plt.show()"
   ]
  },
  {
   "cell_type": "code",
   "execution_count": null,
   "metadata": {
    "id": "ng6TsMHA5W4p"
   },
   "outputs": [],
   "source": [
    "#Confusion matrices of Trainng and Validation data\n",
    "x = metrics.confusion_matrix(y_val, val_predict)\n",
    "y = metrics.confusion_matrix(y_train, train_predict)"
   ]
  },
  {
   "cell_type": "code",
   "execution_count": null,
   "metadata": {
    "colab": {
     "base_uri": "https://localhost:8080/",
     "height": 296
    },
    "id": "gUlEn0LsGsay",
    "outputId": "395cb346-0f6c-430a-8583-515458114d88"
   },
   "outputs": [
    {
     "data": {
      "text/plain": [
       "Text(91.68, 0.5, 'predicted label')"
      ]
     },
     "execution_count": 68,
     "metadata": {
      "tags": []
     },
     "output_type": "execute_result"
    },
    {
     "data": {
      "image/png": "[encoded data removed]",
      "text/plain": [
       "<Figure size 432x288 with 1 Axes>"
      ]
     },
     "metadata": {
      "needs_background": "light",
      "tags": []
     },
     "output_type": "display_data"
    }
   ],
   "source": [
    "sns.heatmap(x,square=True, annot=True, fmt='d', cbar=False,\n",
    "            )\n",
    "plt.xlabel('true label')\n",
    "plt.ylabel('predicted label')"
   ]
  },
  {
   "cell_type": "code",
   "execution_count": null,
   "metadata": {
    "colab": {
     "base_uri": "https://localhost:8080/",
     "height": 296
    },
    "id": "zBhRMzPzGvfc",
    "outputId": "7accfac6-62a6-4152-c215-d946752ce48f"
   },
   "outputs": [
    {
     "data": {
      "text/plain": [
       "Text(91.68, 0.5, 'predicted label')"
      ]
     },
     "execution_count": 69,
     "metadata": {
      "tags": []
     },
     "output_type": "execute_result"
    },
    {
     "data": {
      "image/png": "[encoded data removed]",
      "text/plain": [
       "<Figure size 432x288 with 1 Axes>"
      ]
     },
     "metadata": {
      "needs_background": "light",
      "tags": []
     },
     "output_type": "display_data"
    }
   ],
   "source": [
    "sns.heatmap(y,square=True, annot=True, fmt='d', cbar=False,\n",
    "            )\n",
    "plt.xlabel('true label')\n",
    "plt.ylabel('predicted label')"
   ]
  },
  {
   "cell_type": "code",
   "execution_count": null,
   "metadata": {
    "id": "ErXrnZJ3Gxm3"
   },
   "outputs": [],
   "source": []
  },
  {
   "cell_type": "code",
   "execution_count": null,
   "metadata": {
    "id": "GlKBISPG5cAD"
   },
   "outputs": [],
   "source": []
  },
  {
   "cell_type": "code",
   "execution_count": null,
   "metadata": {
    "id": "46qiKfaL5cDo"
   },
   "outputs": [],
   "source": []
  },
  {
   "cell_type": "code",
   "execution_count": null,
   "metadata": {
    "id": "fYlAKXXX9x2O"
   },
   "outputs": [],
   "source": [
    "from sklearn.externals import joblib"
   ]
  },
  {
   "cell_type": "code",
   "execution_count": null,
   "metadata": {
    "id": "fn0IAahw9yLT"
   },
   "outputs": [],
   "source": [
    "joblib.dump(lgbm_model, 'lgb.pkl')"
   ]
  },
  {
   "cell_type": "code",
   "execution_count": null,
   "metadata": {
    "id": "_PfsX0WZ92N5"
   },
   "outputs": [],
   "source": []
  },
  {
   "cell_type": "code",
   "execution_count": null,
   "metadata": {
    "id": "zlzypgeT9dMf"
   },
   "outputs": [],
   "source": [
    "lgbm_model.save_model('mode.pkl')"
   ]
  },
  {
   "cell_type": "code",
   "execution_count": null,
   "metadata": {
    "id": "ODB7pbbYJ3-u"
   },
   "outputs": [],
   "source": [
    "import pickle"
   ]
  },
  {
   "cell_type": "code",
   "execution_count": null,
   "metadata": {
    "id": "J1epotVKJ63n"
   },
   "outputs": [],
   "source": [
    "pickle.dump(lgbm_model, open('lgbm_model.pkl', 'wb'))"
   ]
  },
  {
   "cell_type": "code",
   "execution_count": null,
   "metadata": {
    "id": "YUGV6vgqKA2x"
   },
   "outputs": [],
   "source": [
    "X_train.shape"
   ]
  },
  {
   "cell_type": "code",
   "execution_count": null,
   "metadata": {
    "id": "if1-gnc6LWjJ"
   },
   "outputs": [],
   "source": [
    "X_train[1].dtype"
   ]
  }
 ],
 "metadata": {
  "colab": {
   "collapsed_sections": [],
   "name": "200361138_LightGBM.ipynb",
   "provenance": []
  },
  "kernelspec": {
   "display_name": "Python 3",
   "language": "python",
   "name": "python3"
  },
  "language_info": {
   "codemirror_mode": {
    "name": "ipython",
    "version": 3
   },
   "file_extension": ".py",
   "mimetype": "text/x-python",
   "name": "python",
   "nbconvert_exporter": "python",
   "pygments_lexer": "ipython3",
   "version": "3.7.9"
  }
 },
 "nbformat": 4,
 "nbformat_minor": 1
}
