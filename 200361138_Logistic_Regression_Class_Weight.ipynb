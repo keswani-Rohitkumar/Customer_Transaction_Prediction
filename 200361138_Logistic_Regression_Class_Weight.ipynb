{
 "cells": [
  {
   "cell_type": "code",
   "execution_count": null,
   "metadata": {
    "id": "9qJc0KNFgSJi"
   },
   "outputs": [],
   "source": [
    "#Importing all the necessary Libraries\n",
    "\n",
    "import pandas as pd\n",
    "import numpy as np\n",
    "import seaborn as sns\n",
    "import matplotlib.pyplot as plt\n",
    "\n",
    "#import eli5\n",
    "\n",
    "pd.set_option('display.max_columns', None)\n",
    "\n",
    "from sklearn.model_selection import train_test_split\n",
    "from sklearn.linear_model import LogisticRegression\n",
    "from sklearn.tree import DecisionTreeClassifier\n",
    "from sklearn.metrics import accuracy_score, recall_score, confusion_matrix\n",
    "from sklearn import tree\n",
    "import graphviz\n",
    "from sklearn import metrics\n",
    "from sklearn.metrics import classification_report\n",
    "#from pdpbox import pdp, \n",
    "\n",
    "from sklearn.ensemble import RandomForestClassifier\n",
    "from sklearn.preprocessing import StandardScaler\n",
    "from sklearn.decomposition import PCA\n",
    "#import scikitplot as skplt\n",
    "from sklearn.metrics import roc_curve, roc_auc_score\n",
    "from sklearn.model_selection import GridSearchCV\n",
    "from sklearn.preprocessing import MinMaxScaler\n",
    "RANDOM_SEED = 42"
   ]
  },
  {
   "cell_type": "code",
   "execution_count": null,
   "metadata": {
    "id": "ilyjVjSFgWkq"
   },
   "outputs": [],
   "source": [
    "#Loading training and test data\n",
    "train_data = pd.read_csv('/content/drive/MyDrive/Customer Transaction Prediction/train.csv')\n",
    "test_data = pd.read_csv('/content/drive/MyDrive/Customer Transaction Prediction/test.csv')"
   ]
  },
  {
   "cell_type": "code",
   "execution_count": null,
   "metadata": {
    "id": "4B_heBKNgYCN"
   },
   "outputs": [],
   "source": [
    "#dropping columns from training data\n",
    "cols = ['target', 'ID_code']\n",
    "X = train_data.drop(cols,axis=1)\n",
    "y = train_data['target']"
   ]
  },
  {
   "cell_type": "markdown",
   "metadata": {
    "id": "4oNOd2ttfvxn"
   },
   "source": [
    "Feature Engineering"
   ]
  },
  {
   "cell_type": "code",
   "execution_count": null,
   "metadata": {
    "id": "Lb6j2O28ghJV"
   },
   "outputs": [],
   "source": [
    "#Standard Scaler function\n",
    "scaler = StandardScaler()"
   ]
  },
  {
   "cell_type": "code",
   "execution_count": null,
   "metadata": {
    "id": "M8h3qtlRgieH"
   },
   "outputs": [],
   "source": [
    "#Transforming the dataset into standard scaler\n",
    "tr = scaler.fit_transform(X)"
   ]
  },
  {
   "cell_type": "code",
   "execution_count": null,
   "metadata": {
    "id": "QPUR5JqMgjuh"
   },
   "outputs": [],
   "source": [
    "#Splitting the data in train and validation split\n",
    "X_train, X_val, y_train, y_val = train_test_split(tr,y, random_state = 1)"
   ]
  },
  {
   "cell_type": "code",
   "execution_count": null,
   "metadata": {
    "id": "oMwPNKjigk7l"
   },
   "outputs": [],
   "source": [
    "#Logistic Regression function\n",
    "lgr = LogisticRegression(C=0.1, class_weight= {0:0.1, 1:0.9} , penalty='l2' , solver='saga')"
   ]
  },
  {
   "cell_type": "code",
   "execution_count": null,
   "metadata": {
    "id": "fX9L5mcBgxMP"
   },
   "outputs": [],
   "source": [
    "#Fitting the logistic regression model\n",
    "lgr.fit(X_train,y_train)\n",
    "yt_p = lgr.predict(X_train)\n",
    "yv_p = lgr.predict(X_val)"
   ]
  },
  {
   "cell_type": "code",
   "execution_count": null,
   "metadata": {
    "colab": {
     "base_uri": "https://localhost:8080/"
    },
    "id": "yq1k75keg7SP",
    "outputId": "76c191df-0c6d-4192-94e5-932f4ec89edf"
   },
   "outputs": [
    {
     "name": "stdout",
     "output_type": "stream",
     "text": [
      "Training Accuracy 0.78076\n",
      "Validation  Accuracy 0.77842\n"
     ]
    }
   ],
   "source": [
    "#Printing the training and Validation accuracy\n",
    "print('Training Accuracy', np.mean(yt_p==y_train))\n",
    "print('Validation  Accuracy', np.mean(yv_p==y_val))"
   ]
  },
  {
   "cell_type": "code",
   "execution_count": null,
   "metadata": {
    "id": "h-N1ivZlg_TE"
   },
   "outputs": [],
   "source": [
    "#Calculating the roc auc score of the training and validation set\n",
    "tr_auc = roc_auc_score(y_train,yt_p)\n",
    "vt_auc = roc_auc_score(y_val, yv_p)"
   ]
  },
  {
   "cell_type": "code",
   "execution_count": null,
   "metadata": {
    "colab": {
     "base_uri": "https://localhost:8080/"
    },
    "id": "VTmd7Rz5hBZx",
    "outputId": "30b4aadc-5d1b-4072-cd29-2ebb8edaa4bb"
   },
   "outputs": [
    {
     "data": {
      "text/plain": [
       "0.781714151831326"
      ]
     },
     "execution_count": 13,
     "metadata": {
      "tags": []
     },
     "output_type": "execute_result"
    }
   ],
   "source": [
    "tr_auc\n"
   ]
  },
  {
   "cell_type": "code",
   "execution_count": null,
   "metadata": {
    "colab": {
     "base_uri": "https://localhost:8080/"
    },
    "id": "PTirtCVjhFAF",
    "outputId": "44d3202c-3eeb-4e50-baa2-868423abc151"
   },
   "outputs": [
    {
     "data": {
      "text/plain": [
       "0.7781741414681467"
      ]
     },
     "execution_count": 14,
     "metadata": {
      "tags": []
     },
     "output_type": "execute_result"
    }
   ],
   "source": [
    "vt_auc"
   ]
  },
  {
   "cell_type": "code",
   "execution_count": null,
   "metadata": {
    "colab": {
     "base_uri": "https://localhost:8080/"
    },
    "id": "MchXIPHJhGK1",
    "outputId": "debe7264-12f1-4e9d-ed2a-3d5b75889689"
   },
   "outputs": [
    {
     "name": "stdout",
     "output_type": "stream",
     "text": [
      "              precision    recall  f1-score   support\n",
      "\n",
      "           0       0.97      0.78      0.86    134845\n",
      "           1       0.29      0.78      0.42     15155\n",
      "\n",
      "    accuracy                           0.78    150000\n",
      "   macro avg       0.63      0.78      0.64    150000\n",
      "weighted avg       0.90      0.78      0.82    150000\n",
      "\n"
     ]
    }
   ],
   "source": [
    "#Classification report of the training data\n",
    "print(classification_report(y_train, yt_p))"
   ]
  },
  {
   "cell_type": "code",
   "execution_count": null,
   "metadata": {
    "colab": {
     "base_uri": "https://localhost:8080/"
    },
    "id": "KlNk6ikMhdxw",
    "outputId": "d14818e0-5e48-4b95-c2a3-93ac9f48f756"
   },
   "outputs": [
    {
     "name": "stdout",
     "output_type": "stream",
     "text": [
      "              precision    recall  f1-score   support\n",
      "\n",
      "           0       0.97      0.78      0.86     45057\n",
      "           1       0.28      0.78      0.41      4943\n",
      "\n",
      "    accuracy                           0.78     50000\n",
      "   macro avg       0.62      0.78      0.64     50000\n",
      "weighted avg       0.90      0.78      0.82     50000\n",
      "\n"
     ]
    }
   ],
   "source": [
    "#Classification report of the validation data\n",
    "print(classification_report(y_val, yv_p))"
   ]
  },
  {
   "cell_type": "code",
   "execution_count": null,
   "metadata": {
    "id": "vmYMvP00hfj5"
   },
   "outputs": [],
   "source": [
    "#Confusion matrices of training and validation set\n",
    "x = metrics.confusion_matrix(y_val, yv_p)\n",
    "y = metrics.confusion_matrix(y_train, yt_p)"
   ]
  },
  {
   "cell_type": "code",
   "execution_count": null,
   "metadata": {
    "colab": {
     "base_uri": "https://localhost:8080/",
     "height": 296
    },
    "id": "Gd_6xTJHhkKp",
    "outputId": "97bf38ad-8270-4409-c10d-c726fa6d891d"
   },
   "outputs": [
    {
     "data": {
      "text/plain": [
       "Text(91.68, 0.5, 'predicted label')"
      ]
     },
     "execution_count": 18,
     "metadata": {
      "tags": []
     },
     "output_type": "execute_result"
    },
    {
     "data": {
      "image/png": "[encoded data removed]",
      "text/plain": [
       "<Figure size 432x288 with 1 Axes>"
      ]
     },
     "metadata": {
      "needs_background": "light",
      "tags": []
     },
     "output_type": "display_data"
    }
   ],
   "source": [
    "sns.heatmap(x,square=True, annot=True, fmt='d', cbar=False,\n",
    "            )\n",
    "plt.xlabel('true label')\n",
    "plt.ylabel('predicted label')"
   ]
  },
  {
   "cell_type": "code",
   "execution_count": null,
   "metadata": {
    "colab": {
     "base_uri": "https://localhost:8080/",
     "height": 296
    },
    "id": "ydhRBxfUhl88",
    "outputId": "81b07ccd-32cb-4353-f648-5f58262be615"
   },
   "outputs": [
    {
     "data": {
      "text/plain": [
       "Text(91.68, 0.5, 'predicted label')"
      ]
     },
     "execution_count": 19,
     "metadata": {
      "tags": []
     },
     "output_type": "execute_result"
    },
    {
     "data": {
      "image/png": "[encoded data removed]",
      "text/plain": [
       "<Figure size 432x288 with 1 Axes>"
      ]
     },
     "metadata": {
      "needs_background": "light",
      "tags": []
     },
     "output_type": "display_data"
    }
   ],
   "source": [
    "sns.heatmap(y,square=True, annot=True, fmt='d', cbar=False,\n",
    "            )\n",
    "plt.xlabel('true label')\n",
    "plt.ylabel('predicted label')"
   ]
  },
  {
   "cell_type": "markdown",
   "metadata": {
    "id": "MC8irl7xggRv"
   },
   "source": [
    "Under Sampling"
   ]
  },
  {
   "cell_type": "code",
   "execution_count": null,
   "metadata": {
    "colab": {
     "base_uri": "https://localhost:8080/"
    },
    "id": "k-BxIrkohnLE",
    "outputId": "9db5a077-06ab-448f-9a5c-79e9cf3f49ea"
   },
   "outputs": [
    {
     "name": "stderr",
     "output_type": "stream",
     "text": [
      "/usr/local/lib/python3.7/dist-packages/sklearn/externals/six.py:31: FutureWarning: The module is deprecated in version 0.21 and will be removed in version 0.23 since we've dropped support for Python 2.7. Please rely on the official version of six (https://pypi.org/project/six/).\n",
      "  \"(https://pypi.org/project/six/).\", FutureWarning)\n",
      "/usr/local/lib/python3.7/dist-packages/sklearn/utils/deprecation.py:144: FutureWarning: The sklearn.neighbors.base module is  deprecated in version 0.22 and will be removed in version 0.24. The corresponding classes / functions should instead be imported from sklearn.neighbors. Anything that cannot be imported from sklearn.neighbors is now part of the private API.\n",
      "  warnings.warn(message, FutureWarning)\n"
     ]
    }
   ],
   "source": [
    "#Importing libraries for under sampling\n",
    "import imblearn\n",
    "from imblearn.under_sampling import RandomUnderSampler"
   ]
  },
  {
   "cell_type": "code",
   "execution_count": null,
   "metadata": {
    "id": "awdMgdfWhsgn"
   },
   "outputs": [],
   "source": [
    "undersample = RandomUnderSampler(sampling_strategy='majority')"
   ]
  },
  {
   "cell_type": "code",
   "execution_count": null,
   "metadata": {
    "id": "xlbLmM81h_CG"
   },
   "outputs": [],
   "source": [
    "#Dropping columns from under sampling\n",
    "cols = ['target', 'ID_code']\n",
    "X = train_data.drop(cols,axis=1)\n",
    "y = train_data['target']"
   ]
  },
  {
   "cell_type": "code",
   "execution_count": null,
   "metadata": {
    "id": "1TcbmaBih_Es"
   },
   "outputs": [],
   "source": [
    "scaler = StandardScaler()"
   ]
  },
  {
   "cell_type": "code",
   "execution_count": null,
   "metadata": {
    "id": "rfBaEfC-h_G5"
   },
   "outputs": [],
   "source": [
    "tr = scaler.fit_transform(X)"
   ]
  },
  {
   "cell_type": "code",
   "execution_count": null,
   "metadata": {
    "colab": {
     "base_uri": "https://localhost:8080/"
    },
    "id": "XAUnqJ9Jhuyh",
    "outputId": "657db239-f07a-4846-f51c-e5b7ac52b6cb"
   },
   "outputs": [
    {
     "name": "stderr",
     "output_type": "stream",
     "text": [
      "/usr/local/lib/python3.7/dist-packages/sklearn/utils/deprecation.py:87: FutureWarning: Function safe_indexing is deprecated; safe_indexing is deprecated in version 0.22 and will be removed in version 0.24.\n",
      "  warnings.warn(msg, category=FutureWarning)\n"
     ]
    }
   ],
   "source": [
    "#Under Sampling the data\n",
    "X_over, y_over = undersample.fit_resample(tr, y)"
   ]
  },
  {
   "cell_type": "code",
   "execution_count": null,
   "metadata": {
    "id": "XzUzaDvCh31m"
   },
   "outputs": [],
   "source": [
    "#Splitting the under sampled data in train test split\n",
    "X_train, X_val, y_train, y_val = train_test_split(X_over,y_over, random_state = 1)"
   ]
  },
  {
   "cell_type": "code",
   "execution_count": null,
   "metadata": {
    "id": "ZoN6j5UsiNac"
   },
   "outputs": [],
   "source": [
    "#Logistic regression for the under sampled data\n",
    "lgr = LogisticRegression(C=0.1, class_weight= 'balanced' , penalty='l2' , solver='saga')"
   ]
  },
  {
   "cell_type": "code",
   "execution_count": null,
   "metadata": {
    "id": "ePys_5odjL8S"
   },
   "outputs": [],
   "source": [
    "#Fitting the model\n",
    "lgr.fit(X_train,y_train)\n",
    "yt_p = lgr.predict(X_train)\n",
    "yv_p = lgr.predict(X_val)"
   ]
  },
  {
   "cell_type": "code",
   "execution_count": null,
   "metadata": {
    "colab": {
     "base_uri": "https://localhost:8080/"
    },
    "id": "v2MZT5ndjPZ8",
    "outputId": "c415cd18-c35d-4615-cf51-9d3157bb6e29"
   },
   "outputs": [
    {
     "name": "stdout",
     "output_type": "stream",
     "text": [
      "Training Accuracy 0.7814376223173118\n",
      "Validation  Accuracy 0.7841576276246393\n"
     ]
    }
   ],
   "source": [
    "#Training and Validation accuracy\n",
    "print('Training Accuracy', np.mean(yt_p==y_train))\n",
    "print('Validation  Accuracy', np.mean(yv_p==y_val))"
   ]
  },
  {
   "cell_type": "code",
   "execution_count": null,
   "metadata": {
    "id": "ETYw4oz-jTCD"
   },
   "outputs": [],
   "source": [
    "#Roc auc score for training and validation data\n",
    "tr_auc = roc_auc_score(y_train,yt_p)\n",
    "vt_auc = roc_auc_score(y_val, yv_p)"
   ]
  },
  {
   "cell_type": "code",
   "execution_count": null,
   "metadata": {
    "colab": {
     "base_uri": "https://localhost:8080/"
    },
    "id": "dZhHdGihhwcG",
    "outputId": "737cebb9-ec94-43aa-c36c-1094c9d9a042"
   },
   "outputs": [
    {
     "data": {
      "text/plain": [
       "0.781440290438445"
      ]
     },
     "execution_count": 33,
     "metadata": {
      "tags": []
     },
     "output_type": "execute_result"
    }
   ],
   "source": [
    "tr_auc"
   ]
  },
  {
   "cell_type": "code",
   "execution_count": null,
   "metadata": {
    "id": "EJATwXWu4xHE"
   },
   "outputs": [],
   "source": [
    "lr_fpr, lr_tpr, _ = roc_curve(y_val,yv_p)"
   ]
  },
  {
   "cell_type": "code",
   "execution_count": null,
   "metadata": {
    "id": "m09xBI-K4_38"
   },
   "outputs": [],
   "source": [
    "plt.plot(lr_fpr, lr_tpr, linestyle='--', label = 'Logistic Regression (AUROC = %0.3f)' %val_score)\n",
    "plt.title('ROC Plot for Logisic Regression')\n",
    "plt.xlabel('False Positive Rate')\n",
    "plt.ylabel('True Positive Rate')\n",
    "plt.legend()\n",
    "plt.show()"
   ]
  },
  {
   "cell_type": "code",
   "execution_count": null,
   "metadata": {
    "colab": {
     "base_uri": "https://localhost:8080/"
    },
    "id": "zvCGNaLkjXYz",
    "outputId": "d3adc87c-83f1-4afa-bdb6-5b7a2cbaffcf"
   },
   "outputs": [
    {
     "data": {
      "text/plain": [
       "0.7841410868651383"
      ]
     },
     "execution_count": 34,
     "metadata": {
      "tags": []
     },
     "output_type": "execute_result"
    }
   ],
   "source": [
    "vt_auc"
   ]
  },
  {
   "cell_type": "markdown",
   "metadata": {
    "id": "zHbjpOBbjWSH"
   },
   "source": [
    "Data Augmentation"
   ]
  },
  {
   "cell_type": "code",
   "execution_count": null,
   "metadata": {
    "id": "GRqIyHuUk0wW"
   },
   "outputs": [],
   "source": [
    "#Smote Technique for Data Augmentation\n",
    "from imblearn.over_sampling import SMOTE "
   ]
  },
  {
   "cell_type": "code",
   "execution_count": null,
   "metadata": {
    "id": "PvwhDwK0k1Jr"
   },
   "outputs": [],
   "source": [
    "#Again dropping columns from the Augmented Data\n",
    "cols = ['target', 'ID_code']\n",
    "X = train_data.drop(cols,axis=1)\n",
    "y = train_data['target']"
   ]
  },
  {
   "cell_type": "code",
   "execution_count": null,
   "metadata": {
    "id": "H8LPBr5Wk5QR"
   },
   "outputs": [],
   "source": [
    "#Standard Scaler Function\n",
    "scaler = StandardScaler()"
   ]
  },
  {
   "cell_type": "code",
   "execution_count": null,
   "metadata": {
    "id": "3C-gaOhok9BF"
   },
   "outputs": [],
   "source": [
    "tr = scaler.fit_transform(X)"
   ]
  },
  {
   "cell_type": "code",
   "execution_count": null,
   "metadata": {
    "id": "YR_l9z2RlDyz"
   },
   "outputs": [],
   "source": [
    "sm = SMOTE(random_state=42)"
   ]
  },
  {
   "cell_type": "code",
   "execution_count": null,
   "metadata": {
    "colab": {
     "base_uri": "https://localhost:8080/"
    },
    "id": "md1oe-8ulJLh",
    "outputId": "ec059009-16b5-401d-ad4f-5f71b1493b97"
   },
   "outputs": [
    {
     "name": "stderr",
     "output_type": "stream",
     "text": [
      "/usr/local/lib/python3.7/dist-packages/sklearn/utils/deprecation.py:87: FutureWarning: Function safe_indexing is deprecated; safe_indexing is deprecated in version 0.22 and will be removed in version 0.24.\n",
      "  warnings.warn(msg, category=FutureWarning)\n"
     ]
    }
   ],
   "source": [
    "#Resampling the data through SMOTE\n",
    "X_sm, y_sm = sm.fit_resample(tr, y)"
   ]
  },
  {
   "cell_type": "code",
   "execution_count": null,
   "metadata": {
    "id": "8XL6Cls0k_IH"
   },
   "outputs": [],
   "source": [
    "X_train, X_val, y_train, y_val = train_test_split(X_sm,y_sm, random_state = 1)"
   ]
  },
  {
   "cell_type": "code",
   "execution_count": null,
   "metadata": {
    "id": "ndy1EFganpg3"
   },
   "outputs": [],
   "source": [
    "lgr = LogisticRegression(C=0.1 , penalty='l2' , solver='saga')"
   ]
  },
  {
   "cell_type": "code",
   "execution_count": null,
   "metadata": {
    "id": "gz1KSdn2nuCE"
   },
   "outputs": [],
   "source": [
    "lgr.fit(X_train,y_train)\n",
    "yt_p = lgr.predict(X_train)\n",
    "yv_p = lgr.predict(X_val)"
   ]
  },
  {
   "cell_type": "code",
   "execution_count": null,
   "metadata": {
    "colab": {
     "base_uri": "https://localhost:8080/"
    },
    "id": "0gYxU_Tjnv7o",
    "outputId": "d341a2c9-4ce3-4aba-bf39-5e49f618c3bd"
   },
   "outputs": [
    {
     "name": "stdout",
     "output_type": "stream",
     "text": [
      "Training Accuracy 0.8001800980533846\n",
      "Validation  Accuracy 0.7998577003034986\n"
     ]
    }
   ],
   "source": [
    "#Printing the training and Validation accuracy\n",
    "print('Training Accuracy', np.mean(yt_p==y_train))\n",
    "print('Validation  Accuracy', np.mean(yv_p==y_val))"
   ]
  },
  {
   "cell_type": "code",
   "execution_count": null,
   "metadata": {
    "id": "iOZOGR4BnyYP"
   },
   "outputs": [],
   "source": [
    "#Training and Validation Roc auc score\n",
    "tr_auc = roc_auc_score(y_train,yt_p)\n",
    "vt_auc = roc_auc_score(y_val, yv_p)"
   ]
  },
  {
   "cell_type": "code",
   "execution_count": null,
   "metadata": {
    "colab": {
     "base_uri": "https://localhost:8080/"
    },
    "id": "46usE8FTn0tp",
    "outputId": "380643e3-ee72-49db-d5bb-9d305c8294c5"
   },
   "outputs": [
    {
     "data": {
      "text/plain": [
       "0.8001831954936381"
      ]
     },
     "execution_count": 48,
     "metadata": {
      "tags": []
     },
     "output_type": "execute_result"
    }
   ],
   "source": [
    "tr_auc"
   ]
  },
  {
   "cell_type": "code",
   "execution_count": null,
   "metadata": {
    "colab": {
     "base_uri": "https://localhost:8080/"
    },
    "id": "34ODD3Urn1h3",
    "outputId": "49dcd077-e5ef-43fd-bd21-ac9af5589b5d"
   },
   "outputs": [
    {
     "data": {
      "text/plain": [
       "0.7998475240461842"
      ]
     },
     "execution_count": 49,
     "metadata": {
      "tags": []
     },
     "output_type": "execute_result"
    }
   ],
   "source": [
    "vt_auc"
   ]
  },
  {
   "cell_type": "code",
   "execution_count": null,
   "metadata": {
    "colab": {
     "base_uri": "https://localhost:8080/"
    },
    "id": "eA0zWV9mn2fF",
    "outputId": "404ed666-42ef-4b55-e6c4-a58caabe8fbb"
   },
   "outputs": [
    {
     "name": "stdout",
     "output_type": "stream",
     "text": [
      "              precision    recall  f1-score   support\n",
      "\n",
      "           0       0.81      0.79      0.80    134970\n",
      "           1       0.79      0.81      0.80    134883\n",
      "\n",
      "    accuracy                           0.80    269853\n",
      "   macro avg       0.80      0.80      0.80    269853\n",
      "weighted avg       0.80      0.80      0.80    269853\n",
      "\n"
     ]
    }
   ],
   "source": [
    "#Classification report of training data\n",
    "print(classification_report(y_train, yt_p))"
   ]
  },
  {
   "cell_type": "code",
   "execution_count": null,
   "metadata": {
    "colab": {
     "base_uri": "https://localhost:8080/"
    },
    "id": "fSvW3Mhkn5lM",
    "outputId": "ff99b5cc-ff5e-4726-9406-0c0b7fd2c6dd"
   },
   "outputs": [
    {
     "name": "stdout",
     "output_type": "stream",
     "text": [
      "              precision    recall  f1-score   support\n",
      "\n",
      "           0       0.81      0.79      0.80     44932\n",
      "           1       0.79      0.81      0.80     45019\n",
      "\n",
      "    accuracy                           0.80     89951\n",
      "   macro avg       0.80      0.80      0.80     89951\n",
      "weighted avg       0.80      0.80      0.80     89951\n",
      "\n"
     ]
    }
   ],
   "source": [
    "#Classificationr report of Validation data\n",
    "print(classification_report(y_val, yv_p))"
   ]
  },
  {
   "cell_type": "code",
   "execution_count": null,
   "metadata": {
    "id": "PHn2_QnIn9Au"
   },
   "outputs": [],
   "source": [
    "#Confusion matrices of Trainng and Validation data\n",
    "x = metrics.confusion_matrix(y_val, yv_p)\n",
    "y = metrics.confusion_matrix(y_train, yt_p)"
   ]
  },
  {
   "cell_type": "code",
   "execution_count": null,
   "metadata": {
    "colab": {
     "base_uri": "https://localhost:8080/",
     "height": 296
    },
    "id": "-j_YrWW9oFPW",
    "outputId": "2a62379a-4a31-4258-c388-0eb7a3092c50"
   },
   "outputs": [
    {
     "data": {
      "text/plain": [
       "Text(91.68, 0.5, 'predicted label')"
      ]
     },
     "execution_count": 53,
     "metadata": {
      "tags": []
     },
     "output_type": "execute_result"
    },
    {
     "data": {
      "image/png": "[encoded data removed]",
      "text/plain": [
       "<Figure size 432x288 with 1 Axes>"
      ]
     },
     "metadata": {
      "needs_background": "light",
      "tags": []
     },
     "output_type": "display_data"
    }
   ],
   "source": [
    "sns.heatmap(x,square=True, annot=True, fmt='d', cbar=False,\n",
    "            )\n",
    "plt.xlabel('true label')\n",
    "plt.ylabel('predicted label')"
   ]
  },
  {
   "cell_type": "code",
   "execution_count": null,
   "metadata": {
    "colab": {
     "base_uri": "https://localhost:8080/",
     "height": 296
    },
    "id": "LsiS2tKmoHzn",
    "outputId": "5f58bbe3-1f85-44ed-dc85-31e07b96c914"
   },
   "outputs": [
    {
     "data": {
      "text/plain": [
       "Text(91.68, 0.5, 'predicted label')"
      ]
     },
     "execution_count": 54,
     "metadata": {
      "tags": []
     },
     "output_type": "execute_result"
    },
    {
     "data": {
      "image/png": "[encoded data removed]",
      "text/plain": [
       "<Figure size 432x288 with 1 Axes>"
      ]
     },
     "metadata": {
      "needs_background": "light",
      "tags": []
     },
     "output_type": "display_data"
    }
   ],
   "source": [
    "sns.heatmap(y,square=True, annot=True, fmt='d', cbar=False,\n",
    "            )\n",
    "plt.xlabel('true label')\n",
    "plt.ylabel('predicted label')"
   ]
  },
  {
   "cell_type": "code",
   "execution_count": null,
   "metadata": {
    "id": "OEjIqQn7oI8J"
   },
   "outputs": [],
   "source": []
  },
  {
   "cell_type": "code",
   "execution_count": null,
   "metadata": {
    "id": "WupUjtHHmJuS"
   },
   "outputs": [],
   "source": []
  },
  {
   "cell_type": "code",
   "execution_count": null,
   "metadata": {
    "id": "MHn1fJuxlPMs"
   },
   "outputs": [],
   "source": []
  }
 ],
 "metadata": {
  "colab": {
   "collapsed_sections": [],
   "name": "200361138_Logistic Regression Class_Weight.ipynb",
   "provenance": []
  },
  "kernelspec": {
   "display_name": "Python 3",
   "language": "python",
   "name": "python3"
  },
  "language_info": {
   "codemirror_mode": {
    "name": "ipython",
    "version": 3
   },
   "file_extension": ".py",
   "mimetype": "text/x-python",
   "name": "python",
   "nbconvert_exporter": "python",
   "pygments_lexer": "ipython3",
   "version": "3.7.9"
  }
 },
 "nbformat": 4,
 "nbformat_minor": 1
}
